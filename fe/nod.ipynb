{
 "cells": [
  {
   "cell_type": "code",
   "execution_count": 3,
   "metadata": {},
   "outputs": [
    {
     "name": "stdout",
     "output_type": "stream",
     "text": [
      "{\"devices\":{\"aurvandil\":{\"hostname\":\"46.226.105.72\",\"platform\":\"linux\",\"groups\":[\"cdg01\",\"apt\"],\"data\":{\"site\":\"cdg01\",\"domain\":\"sahala.org\",\"os_name\":\"ubuntu\",\"os_version\":\"gandi-bullseye\",\"ip4_addr\":\"46.226.105.72\",\"ip6_addr\":\"2001:4b98:dc0:43:f816:3eff:fe49:e947\"}},\"bragi\":{\"hostname\":\"173.255.198.149\",\"platform\":\"linux\",\"groups\":[\"dfw01\",\"apt\"],\"data\":{\"site\":\"dfw01\",\"domain\":\"sahala.org\",\"os_name\":\"debian\",\"os_version\":\"linode-testing\",\"ip4_addr\":\"173.255.198.149\",\"ip6_addr\":\"2600:3c00::f03c:91ff:fe93:f7dd\"}},\"herd\":{\"hostname\":\"173.255.192.93\",\"platform\":\"linux\",\"groups\":[\"dfw01\",\"apt\"],\"data\":{\"site\":\"dfw01\",\"domain\":\"sahala.org\",\"os_name\":\"debian\",\"os_version\":\"linode-testing\",\"ip4_addr\":\"173.255.192.93\",\"ip6_addr\":\"2600:3c00::f03c:92ff:fee0:f65a\"}},\"heimdall\":{\"hostname\":\"192.168.50.1\",\"platform\":\"linux\",\"groups\":[\"unicorns\",\"fw\"],\"data\":{\"site\":\"unicorn_land\",\"domain\":\"unicorns.wtf\"}},\"mnemosyne\":{\"hostname\":\"192.168.50.190\",\"platform\":\"linux\",\"groups\":[\"unicorns\",\"apt\"],\"data\":{\"site\":\"unicorn_land\",\"domain\":\"unicorns.wtf\",\"os_name\":\"debian\",\"os_version\":\"linode-testing\",\"ip4_addr\":\"192.168.50.190\"}},\"rpi01\":{\"hostname\":\"192.168.50.193\",\"platform\":\"linux\",\"groups\":[\"pik3s\",\"apt\"]},\"rpi02\":{\"hostname\":\"192.168.50.194\",\"platform\":\"linux\",\"groups\":[\"pik3s\",\"apt\"]},\"rpi03\":{\"hostname\":\"192.168.50.195\",\"platform\":\"linux\",\"groups\":[\"pik3s\",\"apt\"]},\"rpi04\":{\"hostname\":\"192.168.50.196\",\"platform\":\"linux\",\"groups\":[\"pik3s\",\"apt\"]},\"rpi05\":{\"hostname\":\"192.168.50.197\",\"platform\":\"linux\",\"groups\":[\"pik3s\",\"apt\"]},\"rpi06\":{\"hostname\":\"192.168.50.198\",\"platform\":\"linux\",\"groups\":[\"pik3s\",\"apt\"]},\"rpi07\":{\"hostname\":\"192.168.50.199\",\"platform\":\"linux\",\"groups\":[\"pik3s\",\"apt\"]},\"rpi08\":{\"hostname\":\"192.168.50.200\",\"platform\":\"linux\",\"groups\":[\"pik3s\",\"apt\"]},\"csw01\":{\"hostname\":\"192.168.50.11\",\"platform\":\"junos\",\"groups\":[\"junos\",\"unicorns\"]},\"csw02\":{\"hostname\":\"192.168.50.12\",\"platform\":\"junos\",\"groups\":[\"junos\",\"unicorns\"]}}}\n"
     ]
    }
   ],
   "source": [
    "import requests\n",
    "# import pandas as pd\n",
    "# import json\n",
    "\n",
    "base_url = \"http://127.0.0.1:8080\"\n",
    "\n",
    "response = requests.get(f\"{base_url}/devices\")\n",
    "\n",
    "print(response.text)\n",
    "\n"
   ]
  }
 ],
 "metadata": {
  "kernelspec": {
   "display_name": "Python 3.10.6 ('venv': venv)",
   "language": "python",
   "name": "python3"
  },
  "language_info": {
   "codemirror_mode": {
    "name": "ipython",
    "version": 3
   },
   "file_extension": ".py",
   "mimetype": "text/x-python",
   "name": "python",
   "nbconvert_exporter": "python",
   "pygments_lexer": "ipython3",
   "version": "3.10.6"
  },
  "orig_nbformat": 4,
  "vscode": {
   "interpreter": {
    "hash": "1d8da65b26a5088dd63f6ee2e83599967e2b6d3da092aa00c617744ac8aea924"
   }
  }
 },
 "nbformat": 4,
 "nbformat_minor": 2
}
